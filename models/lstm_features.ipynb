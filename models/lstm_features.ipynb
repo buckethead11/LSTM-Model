{
 "cells": [
  {
   "cell_type": "code",
   "execution_count": 1,
   "metadata": {},
   "outputs": [],
   "source": [
    "import pandas as pd\n",
    "from keras.models import Sequential\n",
    "from keras.layers import LSTM, Dense, Dropout\n",
    "from sklearn.preprocessing import MinMaxScaler\n",
    "import numpy as np\n",
    "import matplotlib.pyplot as plt\n",
    "import yfinance as yf\n",
    "from sklearn.model_selection import train_test_split\n",
    "from keras.callbacks import EarlyStopping"
   ]
  },
  {
   "cell_type": "code",
   "execution_count": 2,
   "metadata": {},
   "outputs": [],
   "source": [
    "stock_data = pd.read_csv('../data/stock_data.csv')"
   ]
  },
  {
   "cell_type": "code",
   "execution_count": 3,
   "metadata": {},
   "outputs": [],
   "source": [
    "stock_data = stock_data.drop(columns=['Date'])\n",
    "stock_data = stock_data.fillna(stock_data.mean())\n",
    "# Normalize Dataset\n",
    "scaler = MinMaxScaler(feature_range=(0, 1))\n",
    "scaled_data = scaler.fit_transform(stock_data)\n",
    "\n",
    "# stock_data_test = stock_data_test.drop(columns=['Date'])\n",
    "# stock_data_test = stock_data_test.fillna(stock_data.mean())\n",
    "# scaled_data_test = scaler.transform(stock_data_test)  # Use the same scaler\n",
    "\n",
    "def create_dataset(dataset, time_step=1):\n",
    "    dataX, dataY = [], []\n",
    "    for i in range(len(dataset)-time_step):\n",
    "        a = dataset[i:(i+time_step), :]\n",
    "        dataX.append(a)\n",
    "        dataY.append(dataset[i + time_step, 1])  # Predicting the next closing price\n",
    "    return np.array(dataX), np.array(dataY)\n",
    "\n",
    "time_step = 500  # number of previous time steps to consider\n",
    "X, y = create_dataset(scaled_data, time_step)\n",
    "# X_test, y_test = create_dataset(scaled_data_test, time_step)\n",
    "\n",
    "X = np.reshape(X, (X.shape[0], X.shape[1], scaled_data.shape[1]))\n",
    "# X_test = np.reshape(X_test, (X_test.shape[0], X_test.shape[1], scaled_data_test.shape[1]))\n",
    "\n",
    "X_train, X_val, y_train, y_val = train_test_split(X, y, test_size=0.1, random_state=42)"
   ]
  },
  {
   "cell_type": "code",
   "execution_count": null,
   "metadata": {},
   "outputs": [],
   "source": []
  }
 ],
 "metadata": {
  "kernelspec": {
   "display_name": "Python 3",
   "language": "python",
   "name": "python3"
  },
  "language_info": {
   "codemirror_mode": {
    "name": "ipython",
    "version": 3
   },
   "file_extension": ".py",
   "mimetype": "text/x-python",
   "name": "python",
   "nbconvert_exporter": "python",
   "pygments_lexer": "ipython3",
   "version": "3.11.4"
  }
 },
 "nbformat": 4,
 "nbformat_minor": 2
}
