{
 "cells": [
  {
   "cell_type": "code",
   "execution_count": 3,
   "metadata": {},
   "outputs": [],
   "source": [
    "import pandas as pd\n",
    "from keras.models import Sequential\n",
    "from keras.layers import LSTM, Dense, Dropout\n",
    "from sklearn.preprocessing import MinMaxScaler\n",
    "import numpy as np\n",
    "import matplotlib.pyplot as plt\n",
    "import yfinance as yf\n",
    "from sklearn.model_selection import train_test_split\n",
    "from keras.callbacks import EarlyStopping"
   ]
  },
  {
   "cell_type": "code",
   "execution_count": 5,
   "metadata": {},
   "outputs": [
    {
     "data": {
      "text/html": [
       "<div>\n",
       "<style scoped>\n",
       "    .dataframe tbody tr th:only-of-type {\n",
       "        vertical-align: middle;\n",
       "    }\n",
       "\n",
       "    .dataframe tbody tr th {\n",
       "        vertical-align: top;\n",
       "    }\n",
       "\n",
       "    .dataframe thead th {\n",
       "        text-align: right;\n",
       "    }\n",
       "</style>\n",
       "<table border=\"1\" class=\"dataframe\">\n",
       "  <thead>\n",
       "    <tr style=\"text-align: right;\">\n",
       "      <th></th>\n",
       "      <th>Date</th>\n",
       "      <th>Open</th>\n",
       "      <th>Adj Close</th>\n",
       "      <th>Volume</th>\n",
       "      <th>SMA_50</th>\n",
       "      <th>SMA_200</th>\n",
       "      <th>MACD_12_26_9</th>\n",
       "      <th>MACDh_12_26_9</th>\n",
       "      <th>MACDs_12_26_9</th>\n",
       "      <th>RSI_14</th>\n",
       "      <th>Volatility</th>\n",
       "      <th>Daily_Return</th>\n",
       "      <th>interest_rate</th>\n",
       "      <th>vix</th>\n",
       "      <th>msft</th>\n",
       "      <th>fast</th>\n",
       "      <th>low</th>\n",
       "      <th>nsdq</th>\n",
       "      <th>spy</th>\n",
       "    </tr>\n",
       "  </thead>\n",
       "  <tbody>\n",
       "    <tr>\n",
       "      <th>1441</th>\n",
       "      <td>2023-09-25</td>\n",
       "      <td>174.199997</td>\n",
       "      <td>175.624237</td>\n",
       "      <td>46172700</td>\n",
       "      <td>182.527935</td>\n",
       "      <td>164.880386</td>\n",
       "      <td>-2.000791</td>\n",
       "      <td>-0.232289</td>\n",
       "      <td>-1.768502</td>\n",
       "      <td>44.397096</td>\n",
       "      <td>0.015542</td>\n",
       "      <td>0.007380</td>\n",
       "      <td>4.542</td>\n",
       "      <td>16.900000</td>\n",
       "      <td>316.311890</td>\n",
       "      <td>53.812160</td>\n",
       "      <td>210.202179</td>\n",
       "      <td>13271.320312</td>\n",
       "      <td>4337.439941</td>\n",
       "    </tr>\n",
       "    <tr>\n",
       "      <th>1442</th>\n",
       "      <td>2023-09-26</td>\n",
       "      <td>174.820007</td>\n",
       "      <td>171.514893</td>\n",
       "      <td>64588900</td>\n",
       "      <td>182.093694</td>\n",
       "      <td>165.038071</td>\n",
       "      <td>-2.247586</td>\n",
       "      <td>-0.383267</td>\n",
       "      <td>-1.864319</td>\n",
       "      <td>38.386669</td>\n",
       "      <td>0.016171</td>\n",
       "      <td>-0.023399</td>\n",
       "      <td>4.558</td>\n",
       "      <td>18.940001</td>\n",
       "      <td>310.932770</td>\n",
       "      <td>53.488049</td>\n",
       "      <td>206.284988</td>\n",
       "      <td>13063.610352</td>\n",
       "      <td>4273.529785</td>\n",
       "    </tr>\n",
       "    <tr>\n",
       "      <th>1443</th>\n",
       "      <td>2023-09-27</td>\n",
       "      <td>172.619995</td>\n",
       "      <td>169.988846</td>\n",
       "      <td>66921800</td>\n",
       "      <td>181.634111</td>\n",
       "      <td>165.179634</td>\n",
       "      <td>-2.537382</td>\n",
       "      <td>-0.538451</td>\n",
       "      <td>-1.998931</td>\n",
       "      <td>36.415084</td>\n",
       "      <td>0.015199</td>\n",
       "      <td>-0.008897</td>\n",
       "      <td>4.626</td>\n",
       "      <td>18.219999</td>\n",
       "      <td>311.580231</td>\n",
       "      <td>54.077339</td>\n",
       "      <td>204.722092</td>\n",
       "      <td>13092.849609</td>\n",
       "      <td>4274.509766</td>\n",
       "    </tr>\n",
       "    <tr>\n",
       "      <th>1444</th>\n",
       "      <td>2023-09-28</td>\n",
       "      <td>169.339996</td>\n",
       "      <td>170.248184</td>\n",
       "      <td>56294400</td>\n",
       "      <td>181.152424</td>\n",
       "      <td>165.324926</td>\n",
       "      <td>-2.714773</td>\n",
       "      <td>-0.572673</td>\n",
       "      <td>-2.142100</td>\n",
       "      <td>37.007197</td>\n",
       "      <td>0.014283</td>\n",
       "      <td>0.001526</td>\n",
       "      <td>4.597</td>\n",
       "      <td>17.340000</td>\n",
       "      <td>312.426971</td>\n",
       "      <td>54.656811</td>\n",
       "      <td>205.533218</td>\n",
       "      <td>13201.280273</td>\n",
       "      <td>4299.700195</td>\n",
       "    </tr>\n",
       "    <tr>\n",
       "      <th>1445</th>\n",
       "      <td>2023-09-29</td>\n",
       "      <td>172.020004</td>\n",
       "      <td>170.766846</td>\n",
       "      <td>51814200</td>\n",
       "      <td>180.720354</td>\n",
       "      <td>165.461242</td>\n",
       "      <td>-2.781335</td>\n",
       "      <td>-0.511388</td>\n",
       "      <td>-2.269947</td>\n",
       "      <td>38.245764</td>\n",
       "      <td>0.014329</td>\n",
       "      <td>0.003047</td>\n",
       "      <td>4.573</td>\n",
       "      <td>17.520000</td>\n",
       "      <td>314.528778</td>\n",
       "      <td>53.664833</td>\n",
       "      <td>205.592560</td>\n",
       "      <td>13219.320312</td>\n",
       "      <td>4288.049805</td>\n",
       "    </tr>\n",
       "  </tbody>\n",
       "</table>\n",
       "</div>"
      ],
      "text/plain": [
       "            Date        Open   Adj Close    Volume      SMA_50     SMA_200  \\\n",
       "1441  2023-09-25  174.199997  175.624237  46172700  182.527935  164.880386   \n",
       "1442  2023-09-26  174.820007  171.514893  64588900  182.093694  165.038071   \n",
       "1443  2023-09-27  172.619995  169.988846  66921800  181.634111  165.179634   \n",
       "1444  2023-09-28  169.339996  170.248184  56294400  181.152424  165.324926   \n",
       "1445  2023-09-29  172.020004  170.766846  51814200  180.720354  165.461242   \n",
       "\n",
       "      MACD_12_26_9  MACDh_12_26_9  MACDs_12_26_9     RSI_14  Volatility  \\\n",
       "1441     -2.000791      -0.232289      -1.768502  44.397096    0.015542   \n",
       "1442     -2.247586      -0.383267      -1.864319  38.386669    0.016171   \n",
       "1443     -2.537382      -0.538451      -1.998931  36.415084    0.015199   \n",
       "1444     -2.714773      -0.572673      -2.142100  37.007197    0.014283   \n",
       "1445     -2.781335      -0.511388      -2.269947  38.245764    0.014329   \n",
       "\n",
       "      Daily_Return  interest_rate        vix        msft       fast  \\\n",
       "1441      0.007380          4.542  16.900000  316.311890  53.812160   \n",
       "1442     -0.023399          4.558  18.940001  310.932770  53.488049   \n",
       "1443     -0.008897          4.626  18.219999  311.580231  54.077339   \n",
       "1444      0.001526          4.597  17.340000  312.426971  54.656811   \n",
       "1445      0.003047          4.573  17.520000  314.528778  53.664833   \n",
       "\n",
       "             low          nsdq          spy  \n",
       "1441  210.202179  13271.320312  4337.439941  \n",
       "1442  206.284988  13063.610352  4273.529785  \n",
       "1443  204.722092  13092.849609  4274.509766  \n",
       "1444  205.533218  13201.280273  4299.700195  \n",
       "1445  205.592560  13219.320312  4288.049805  "
      ]
     },
     "execution_count": 5,
     "metadata": {},
     "output_type": "execute_result"
    }
   ],
   "source": [
    "stock_data = pd.read_csv('../data/stock_data.csv')\n",
    "# stock_data_test = pd.read_csv('./data/stock_data_test.csv')\n",
    "stock_data.tail()"
   ]
  },
  {
   "cell_type": "markdown",
   "metadata": {},
   "source": [
    "### Preprocessing"
   ]
  },
  {
   "cell_type": "code",
   "execution_count": 6,
   "metadata": {},
   "outputs": [],
   "source": [
    "stock_data = stock_data.drop(columns=['Date'])\n",
    "stock_data = stock_data.fillna(stock_data.mean())\n",
    "# Normalize Dataset\n",
    "scaler = MinMaxScaler(feature_range=(0, 1))\n",
    "scaled_data = scaler.fit_transform(stock_data)\n",
    "\n",
    "# stock_data_test = stock_data_test.drop(columns=['Date'])\n",
    "# stock_data_test = stock_data_test.fillna(stock_data.mean())\n",
    "# scaled_data_test = scaler.transform(stock_data_test)  # Use the same scaler\n",
    "\n",
    "def create_dataset(dataset, time_step=1):\n",
    "    dataX, dataY = [], []\n",
    "    for i in range(len(dataset)-time_step):\n",
    "        a = dataset[i:(i+time_step), :]\n",
    "        dataX.append(a)\n",
    "        dataY.append(dataset[i + time_step, 1])  # Predicting the next closing price\n",
    "    return np.array(dataX), np.array(dataY)\n",
    "\n",
    "time_step = 500  # number of previous time steps to consider\n",
    "X, y = create_dataset(scaled_data, time_step)\n",
    "# X_test, y_test = create_dataset(scaled_data_test, time_step)\n",
    "\n",
    "X = np.reshape(X, (X.shape[0], X.shape[1], scaled_data.shape[1]))\n",
    "# X_test = np.reshape(X_test, (X_test.shape[0], X_test.shape[1], scaled_data_test.shape[1]))\n",
    "\n",
    "X_train, X_val, y_train, y_val = train_test_split(X, y, test_size=0.1, random_state=42)"
   ]
  },
  {
   "cell_type": "markdown",
   "metadata": {},
   "source": [
    "### Build Model"
   ]
  },
  {
   "cell_type": "code",
   "execution_count": 9,
   "metadata": {},
   "outputs": [
    {
     "name": "stdout",
     "output_type": "stream",
     "text": [
      "Model: \"sequential_1\"\n",
      "_________________________________________________________________\n",
      " Layer (type)                Output Shape              Param #   \n",
      "=================================================================\n",
      " lstm_3 (LSTM)               (None, 500, 50)           13800     \n",
      "                                                                 \n",
      " dropout_3 (Dropout)         (None, 500, 50)           0         \n",
      "                                                                 \n",
      " lstm_4 (LSTM)               (None, 500, 50)           20200     \n",
      "                                                                 \n",
      " dropout_4 (Dropout)         (None, 500, 50)           0         \n",
      "                                                                 \n",
      " lstm_5 (LSTM)               (None, 50)                20200     \n",
      "                                                                 \n",
      " dropout_5 (Dropout)         (None, 50)                0         \n",
      "                                                                 \n",
      " dense_1 (Dense)             (None, 1)                 51        \n",
      "                                                                 \n",
      "=================================================================\n",
      "Total params: 54251 (211.92 KB)\n",
      "Trainable params: 54251 (211.92 KB)\n",
      "Non-trainable params: 0 (0.00 Byte)\n",
      "_________________________________________________________________\n"
     ]
    }
   ],
   "source": [
    "model = Sequential()\n",
    "model.add(LSTM(units=50, return_sequences=True, input_shape=(500, 18)))\n",
    "model.add(Dropout(0.2))\n",
    "model.add(LSTM(units=50, return_sequences=True))\n",
    "model.add(Dropout(0.2))\n",
    "model.add(LSTM(units=50))\n",
    "model.add(Dropout(0.2))\n",
    "model.add(Dense(units=1))  # Predicting the next closing price\n",
    "\n",
    "model.compile(optimizer='adam', loss='mean_squared_error')\n",
    "\n",
    "model.summary()"
   ]
  },
  {
   "cell_type": "code",
   "execution_count": 10,
   "metadata": {},
   "outputs": [
    {
     "name": "stdout",
     "output_type": "stream",
     "text": [
      "Epoch 1/30\n",
      "27/27 [==============================] - 12s 313ms/step - loss: 0.0531 - val_loss: 0.0098\n",
      "Epoch 2/30\n",
      "27/27 [==============================] - 7s 277ms/step - loss: 0.0108 - val_loss: 0.0037\n",
      "Epoch 3/30\n",
      "27/27 [==============================] - 8s 282ms/step - loss: 0.0083 - val_loss: 0.0031\n",
      "Epoch 4/30\n",
      "27/27 [==============================] - 8s 284ms/step - loss: 0.0075 - val_loss: 0.0024\n",
      "Epoch 5/30\n",
      "27/27 [==============================] - 8s 288ms/step - loss: 0.0065 - val_loss: 0.0027\n",
      "Epoch 6/30\n",
      "27/27 [==============================] - 8s 292ms/step - loss: 0.0070 - val_loss: 0.0020\n",
      "Epoch 7/30\n",
      "27/27 [==============================] - 8s 298ms/step - loss: 0.0058 - val_loss: 0.0030\n",
      "Epoch 8/30\n",
      "27/27 [==============================] - 13s 486ms/step - loss: 0.0056 - val_loss: 0.0015\n",
      "Epoch 9/30\n",
      "27/27 [==============================] - 18s 683ms/step - loss: 0.0056 - val_loss: 0.0018\n",
      "Epoch 10/30\n",
      "27/27 [==============================] - 20s 733ms/step - loss: 0.0052 - val_loss: 0.0018\n",
      "Epoch 11/30\n",
      "27/27 [==============================] - 21s 778ms/step - loss: 0.0047 - val_loss: 0.0014\n",
      "Epoch 12/30\n",
      "27/27 [==============================] - 20s 737ms/step - loss: 0.0042 - val_loss: 0.0020\n",
      "Epoch 13/30\n",
      "27/27 [==============================] - 21s 776ms/step - loss: 0.0041 - val_loss: 0.0021\n",
      "Epoch 14/30\n",
      "27/27 [==============================] - 21s 793ms/step - loss: 0.0050 - val_loss: 0.0015\n",
      "Epoch 15/30\n",
      "27/27 [==============================] - 19s 703ms/step - loss: 0.0045 - val_loss: 0.0015\n",
      "Epoch 16/30\n",
      "27/27 [==============================] - ETA: 0s - loss: 0.0052Restoring model weights from the end of the best epoch: 11.\n",
      "27/27 [==============================] - 20s 735ms/step - loss: 0.0052 - val_loss: 0.0014\n",
      "Epoch 16: early stopping\n"
     ]
    },
    {
     "data": {
      "text/plain": [
       "<keras.src.callbacks.History at 0x1e0ed427810>"
      ]
     },
     "execution_count": 10,
     "metadata": {},
     "output_type": "execute_result"
    }
   ],
   "source": [
    "#model.fit(X, y, epochs=10, batch_size=32, verbose=1)\n",
    "early_stopping = EarlyStopping(monitor='val_loss', patience=5, verbose=1, mode='min', restore_best_weights=True)\n",
    "model.fit(X_train, y_train, validation_data=(X_val, y_val), epochs=30, batch_size=32, verbose=1, callbacks=[early_stopping])"
   ]
  },
  {
   "cell_type": "markdown",
   "metadata": {},
   "source": [
    "### Make Predictions"
   ]
  },
  {
   "cell_type": "code",
   "execution_count": 15,
   "metadata": {},
   "outputs": [
    {
     "name": "stdout",
     "output_type": "stream",
     "text": [
      "1/1 [==============================] - 0s 88ms/step\n",
      "1/1 [==============================] - 0s 49ms/step\n",
      "1/1 [==============================] - 0s 43ms/step\n",
      "1/1 [==============================] - 0s 47ms/step\n",
      "1/1 [==============================] - 0s 44ms/step\n",
      "1/1 [==============================] - 0s 40ms/step\n",
      "1/1 [==============================] - 0s 43ms/step\n",
      "1/1 [==============================] - 0s 41ms/step\n",
      "1/1 [==============================] - 0s 45ms/step\n",
      "1/1 [==============================] - 0s 52ms/step\n",
      "1/1 [==============================] - 0s 45ms/step\n",
      "1/1 [==============================] - 0s 49ms/step\n",
      "1/1 [==============================] - 0s 45ms/step\n",
      "1/1 [==============================] - 0s 46ms/step\n",
      "1/1 [==============================] - 0s 51ms/step\n",
      "1/1 [==============================] - 0s 51ms/step\n",
      "1/1 [==============================] - 0s 46ms/step\n",
      "1/1 [==============================] - 0s 48ms/step\n",
      "1/1 [==============================] - 0s 45ms/step\n",
      "1/1 [==============================] - 0s 44ms/step\n",
      "1/1 [==============================] - 0s 46ms/step\n",
      "1/1 [==============================] - 0s 50ms/step\n"
     ]
    },
    {
     "data": {
      "text/plain": [
       "array([171.72356349, 171.26611965, 170.83903657, 170.44923982,\n",
       "       170.10066898, 169.7946244 , 169.5303933 , 169.3056832 ,\n",
       "       169.117354  , 168.9616684 , 168.83463866, 168.73243116,\n",
       "       168.65122189, 168.5876107 , 168.5385249 , 168.50125783,\n",
       "       168.47348814, 168.45325084, 168.43885067, 168.42897764,\n",
       "       168.42256258, 168.41862301])"
      ]
     },
     "execution_count": 15,
     "metadata": {},
     "output_type": "execute_result"
    }
   ],
   "source": [
    "last_100_days = scaled_data[-500:]\n",
    "predicted_prices = []\n",
    "\n",
    "# Predict the next 30 days\n",
    "for i in range(22):\n",
    "    # Reshape the input for the model\n",
    "    X_test = last_100_days.reshape((1, last_100_days.shape[0], last_100_days.shape[1]))\n",
    "    \n",
    "    # Predict the next price\n",
    "    predicted_price = model.predict(X_test)\n",
    "    \n",
    "    # Update the last 100 days to include the new prediction\n",
    "    last_100_days = np.append(last_100_days, [scaled_data[-1]], axis=0)\n",
    "    last_100_days = last_100_days[1:]\n",
    "    \n",
    "    # Store the predicted price\n",
    "    predicted_prices.append(predicted_price[0][0])\n",
    "\n",
    "# Inverse transform the predicted prices to get actual values\n",
    "predicted_prices = np.array(predicted_prices).reshape(-1, 1)\n",
    "\n",
    "dummy_array = np.zeros((len(predicted_prices), scaled_data.shape[1]))\n",
    "dummy_array[:, 1] = np.squeeze(predicted_prices)\n",
    "\n",
    "# Inverse transform the dummy array\n",
    "transformed_data = scaler.inverse_transform(dummy_array)\n",
    "\n",
    "# Extract the stock prices\n",
    "actual_predicted_prices = transformed_data[:, 1]\n",
    "actual_predicted_prices"
   ]
  },
  {
   "cell_type": "markdown",
   "metadata": {},
   "source": [
    "### Compare with actual prices"
   ]
  },
  {
   "cell_type": "code",
   "execution_count": 16,
   "metadata": {},
   "outputs": [
    {
     "name": "stdout",
     "output_type": "stream",
     "text": [
      "[*********************100%%**********************]  1 of 1 completed\n"
     ]
    },
    {
     "data": {
      "text/plain": [
       "[173.3002471923828,\n",
       " 171.9537353515625,\n",
       " 173.2104949951172,\n",
       " 174.45726013183594,\n",
       " 177.03057861328125,\n",
       " 178.52670288085938,\n",
       " 177.92825317382812,\n",
       " 179.3345947265625,\n",
       " 180.24224853515625,\n",
       " 178.38706970214844,\n",
       " 178.25738525390625,\n",
       " 176.6914520263672,\n",
       " 175.3848419189453,\n",
       " 175.00584411621094,\n",
       " 172.43251037597656,\n",
       " 172.5522003173828,\n",
       " 172.99105834960938,\n",
       " 170.65711975097656,\n",
       " 166.4580078125,\n",
       " 167.78456115722656,\n",
       " 169.8491973876953,\n",
       " 170.32797241210938]"
      ]
     },
     "execution_count": 16,
     "metadata": {},
     "output_type": "execute_result"
    }
   ],
   "source": [
    "ticker = 'AAPL'\n",
    "start_date = '2023-10-01'\n",
    "end_date = '2023-11-01'\n",
    "\n",
    "def get_stock_data(ticker, start_date, end_date):\n",
    "    stock_data = yf.download(ticker, start = start_date, end = end_date)\n",
    "    return stock_data\n",
    "\n",
    "test_data = get_stock_data(ticker, start_date, end_date)\n",
    "actual_close = test_data['Adj Close'].tolist()\n",
    "actual_close"
   ]
  },
  {
   "cell_type": "code",
   "execution_count": 17,
   "metadata": {},
   "outputs": [
    {
     "data": {
      "image/png": "[encoded data removed]",
      "text/plain": [
       "<Figure size 1000x600 with 1 Axes>"
      ]
     },
     "metadata": {},
     "output_type": "display_data"
    }
   ],
   "source": [
    "plt.figure(figsize=(10, 6))\n",
    "plt.plot(actual_predicted_prices,  color='blue', label='Predicted Stock Prices')\n",
    "plt.plot(actual_close,  color='green', label='Actual Stock Prices')\n",
    "plt.title('Stock Price Prediction for the Next 30 Days')\n",
    "plt.xlabel('Days')\n",
    "plt.ylabel('Stock Price')\n",
    "plt.legend()\n",
    "plt.show()"
   ]
  },
  {
   "cell_type": "code",
   "execution_count": null,
   "metadata": {},
   "outputs": [],
   "source": []
  }
 ],
 "metadata": {
  "kernelspec": {
   "display_name": "Python 3",
   "language": "python",
   "name": "python3"
  },
  "language_info": {
   "codemirror_mode": {
    "name": "ipython",
    "version": 3
   },
   "file_extension": ".py",
   "mimetype": "text/x-python",
   "name": "python",
   "nbconvert_exporter": "python",
   "pygments_lexer": "ipython3",
   "version": "3.11.4"
  }
 },
 "nbformat": 4,
 "nbformat_minor": 2
}
