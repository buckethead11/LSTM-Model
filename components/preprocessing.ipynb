{
 "cells": [
  {
   "cell_type": "code",
   "execution_count": 34,
   "metadata": {},
   "outputs": [],
   "source": [
    "import pandas as pd\n",
    "import numpy as np\n",
    "import matplotlib.pyplot as plt\n",
    "import datetime\n",
    "import yfinance as yf\n",
    "import pandas_ta as ta\n",
    "import json\n",
    "import requests\n",
    "from yahoofinancials import YahooFinancials"
   ]
  },
  {
   "cell_type": "markdown",
   "metadata": {},
   "source": [
    "### Get the Financial Features"
   ]
  },
  {
   "cell_type": "code",
   "execution_count": 50,
   "metadata": {},
   "outputs": [],
   "source": [
    "ticker = 'BLK'\n",
    "start_date = '2018-01-01'\n",
    "end_date = '2023-10-01'\n",
    "\n",
    "start_date_test = '2023-01-01'\n",
    "end_date_test = '2023-10-01' "
   ]
  },
  {
   "cell_type": "markdown",
   "metadata": {},
   "source": [
    "#### Historical Stock Price"
   ]
  },
  {
   "cell_type": "code",
   "execution_count": 51,
   "metadata": {},
   "outputs": [],
   "source": [
    "def get_stock_data(ticker, start_date, end_date):\n",
    "    stock_data = yf.download(ticker, start = start_date, end = end_date)\n",
    "    return stock_data"
   ]
  },
  {
   "cell_type": "code",
   "execution_count": 52,
   "metadata": {},
   "outputs": [],
   "source": [
    "sp500 = pd.read_csv('../data/sp500_stocks.csv')"
   ]
  },
  {
   "cell_type": "markdown",
   "metadata": {},
   "source": [
    "#### Technical Indicators\n",
    "\n",
    "Since prediction in the near future is highly dependent on momentum, we primarily consider momentum indicators:  \n",
    "-> SMA is simple moving average which takes the average over a window (we use two values with window size of 50 and 200)  \n",
    "-> MACD, short for moving average convergence/divergence, is a trading indicator designed to reveal changes in the strength, direction, momentum, and duration of a trend in a stock's price  \n",
    "-> RSI or relative strength index is a momentum indicator that measures the magnitude of recent price changes  "
   ]
  },
  {
   "cell_type": "code",
   "execution_count": 53,
   "metadata": {},
   "outputs": [],
   "source": [
    "def calculate_technical_indicators(stock_data):\n",
    "    # moving averages\n",
    "    stock_data['SMA_50'] = stock_data['Adj Close'].rolling(window=50).mean()\n",
    "    stock_data['SMA_200'] = stock_data['Adj Close'].rolling(window=200).mean()\n",
    "    \n",
    "    # MACD\n",
    "    stock_data.ta.macd(append=True)\n",
    "    \n",
    "    # RSI\n",
    "    stock_data.ta.rsi(append=True)\n",
    "    \n",
    "    return stock_data"
   ]
  },
  {
   "cell_type": "markdown",
   "metadata": {},
   "source": [
    "#### Volatility and Returns"
   ]
  },
  {
   "cell_type": "code",
   "execution_count": 54,
   "metadata": {},
   "outputs": [],
   "source": [
    "def calculate_volatility(stock_data):\n",
    "    stock_data['Volatility'] = stock_data['Adj Close'].pct_change().rolling(window=20).std()\n",
    "    return stock_data\n",
    "def calculate_returns(stock_data):\n",
    "    stock_data['Daily_Return'] = stock_data['Adj Close'].pct_change()\n",
    "    return stock_data"
   ]
  },
  {
   "cell_type": "markdown",
   "metadata": {},
   "source": [
    "#### Fundamentals\n",
    "\n",
    "Stock price is often dependent on the market conditions at the time so we look at two major sources of fundamental data:  \n",
    "-> CBOE Interest Rate 10 Year or the 10 year interest rate on Treasury Bonds  \n",
    "-> Bond volatility rate index or VIX which is a good indicator of market volatility  "
   ]
  },
  {
   "cell_type": "code",
   "execution_count": 55,
   "metadata": {},
   "outputs": [],
   "source": [
    "def get_bond_interest_rate(stock_data, start_date, end_date):\n",
    "    interest_rate = yf.download('^TNX', start = start_date, end = end_date)\n",
    "    stock_data['interest_rate'] = interest_rate['Adj Close'].tolist()\n",
    "    return stock_data\n",
    "\n",
    "def get_bond_volatility_rate(stock_data, start_date, end_date):\n",
    "    vix = yf.download('^VIX', start=start_date, end=end_date)\n",
    "    stock_data['vix'] = vix['Adj Close'].tolist()\n",
    "    return stock_data"
   ]
  },
  {
   "cell_type": "code",
   "execution_count": 56,
   "metadata": {},
   "outputs": [],
   "source": [
    "def highest_correlation(df, target_stock):\n",
    "    target_prices = df[df['Symbol']==target_stock]['Adj Close']\n",
    "    pivot_df = df.pivot(index='Date', columns='Symbol', values='Adj Close')\n",
    "    corr_matrix = pivot_df.corr()\n",
    "    top_3_corr = corr_matrix[target_stock].drop(target_stock).sort_values(ascending=False).head(3)\n",
    "    result = top_3_corr.keys().tolist()\n",
    "    result = [string.upper() for string in result]\n",
    "    return result"
   ]
  },
  {
   "cell_type": "code",
   "execution_count": 59,
   "metadata": {},
   "outputs": [
    {
     "name": "stdout",
     "output_type": "stream",
     "text": [
      "['AVY', 'LH', 'NXPI']\n"
     ]
    }
   ],
   "source": [
    "print(highest_correlation(sp500, 'BLK'))"
   ]
  },
  {
   "cell_type": "markdown",
   "metadata": {},
   "source": [
    "#### Supporting Data\n",
    "\n",
    "Additionally, we want to see how index prices and similar stocks play an impact on the price of a particular stock. In this case, since we are using Apple stock as an example, we consider the price of similar tech stocks like Microsoft, Google, Amazon, and Facebook as Features. Additionally, Apple is listed on the NASDAQ so looking at the nasdaq value and the S&P500 could also be a useful feature"
   ]
  },
  {
   "cell_type": "code",
   "execution_count": 60,
   "metadata": {},
   "outputs": [],
   "source": [
    "def get_similar_stocks(sp500, stock_data, start_date, end_date):\n",
    "    symbols = highest_correlation(df = sp500, target_stock=ticker)\n",
    "    for symbol in symbols:\n",
    "        historical_data = yf.download(symbol, start=start_date, end=end_date)\n",
    "        stock_data[symbol.lower()] = historical_data['Adj Close']\n",
    "    return stock_data\n",
    "    \n",
    "    \n",
    "def get_index_data(stock_data, start_date, end_date):\n",
    "    nsdq = yf.download('^IXIC', start=start_date, end=end_date)\n",
    "    spy = yf.download('^GSPC', start=start_date, end=end_date)\n",
    "    stock_data['nsdq'] = nsdq['Adj Close'].tolist()\n",
    "    stock_data['spy'] = spy['Adj Close'].tolist()\n",
    "    return stock_data"
   ]
  },
  {
   "cell_type": "code",
   "execution_count": 61,
   "metadata": {},
   "outputs": [],
   "source": [
    "def get_quarterly_financials(ticker_symbol):\n",
    "    ticker = yf.Ticker(ticker_symbol)\n",
    "    quarterly_financials = ticker.quarterly_financials\n",
    "    # Transpose the DataFrame for easier merging\n",
    "    quarterly_financials_transposed = quarterly_financials.transpose()\n",
    "    return quarterly_financials_transposed"
   ]
  },
  {
   "cell_type": "markdown",
   "metadata": {},
   "source": [
    "#### Get the data"
   ]
  },
  {
   "cell_type": "code",
   "execution_count": 62,
   "metadata": {},
   "outputs": [
    {
     "name": "stdout",
     "output_type": "stream",
     "text": [
      "[*********************100%%**********************]  1 of 1 completed\n",
      "[*********************100%%**********************]  1 of 1 completed\n",
      "[*********************100%%**********************]  1 of 1 completed\n",
      "[*********************100%%**********************]  1 of 1 completed\n",
      "[*********************100%%**********************]  1 of 1 completed\n",
      "[*********************100%%**********************]  1 of 1 completed\n",
      "[*********************100%%**********************]  1 of 1 completed\n",
      "[*********************100%%**********************]  1 of 1 completed\n"
     ]
    }
   ],
   "source": [
    "stock_data = get_stock_data(ticker=ticker, start_date=start_date, end_date=end_date)\n",
    "stock_data = calculate_technical_indicators(stock_data)\n",
    "stock_data = calculate_volatility(stock_data)\n",
    "stock_data = calculate_returns(stock_data)\n",
    "stock_data = get_bond_interest_rate(stock_data, start_date=start_date, end_date=end_date)\n",
    "stock_data = get_bond_volatility_rate(stock_data, start_date=start_date, end_date=end_date)\n",
    "stock_data = get_similar_stocks(sp500, stock_data, start_date=start_date, end_date=end_date)\n",
    "stock_data = get_index_data(stock_data, start_date=start_date, end_date=end_date)\n",
    "\n",
    "\n",
    "# stock_data_test = get_stock_data(ticker=ticker, start_date=start_date_test, end_date=end_date_test)\n",
    "# stock_data_test = calculate_technical_indicators(stock_data_test)\n",
    "# stock_data_test = calculate_volatility(stock_data_test)\n",
    "# stock_data_test = calculate_returns(stock_data_test)\n",
    "# stock_data_test = get_bond_interest_rate(stock_data_test, start_date=start_date, end_date=end_date)\n",
    "# stock_data_test = get_bond_volatility_rate(stock_data_test, start_date=start_date, end_date=end_date)\n",
    "# stock_data_test = get_similar_stocks(stock_data_test, start_date=start_date, end_date=end_date)\n",
    "# stock_data_test = get_index_data(stock_data_test, start_date=start_date, end_date=end_date)"
   ]
  },
  {
   "cell_type": "markdown",
   "metadata": {},
   "source": [
    "#### Drop unused columns"
   ]
  },
  {
   "cell_type": "code",
   "execution_count": 63,
   "metadata": {},
   "outputs": [],
   "source": [
    "stock_data = stock_data.drop(['High', 'Low', 'Close'], axis=1)\n",
    "#stock_data_test = stock_data_test.drop(['High', 'Low', 'Close'], axis=1)"
   ]
  },
  {
   "cell_type": "code",
   "execution_count": 64,
   "metadata": {},
   "outputs": [],
   "source": [
    "stock_data.to_csv('../data/stock_data_blk.csv')\n",
    "#stock_data_test.to_csv('./data/stock_data_test.csv')"
   ]
  },
  {
   "cell_type": "code",
   "execution_count": 65,
   "metadata": {},
   "outputs": [
    {
     "data": {
      "text/html": [
       "<div>\n",
       "<style scoped>\n",
       "    .dataframe tbody tr th:only-of-type {\n",
       "        vertical-align: middle;\n",
       "    }\n",
       "\n",
       "    .dataframe tbody tr th {\n",
       "        vertical-align: top;\n",
       "    }\n",
       "\n",
       "    .dataframe thead th {\n",
       "        text-align: right;\n",
       "    }\n",
       "</style>\n",
       "<table border=\"1\" class=\"dataframe\">\n",
       "  <thead>\n",
       "    <tr style=\"text-align: right;\">\n",
       "      <th></th>\n",
       "      <th>Open</th>\n",
       "      <th>Adj Close</th>\n",
       "      <th>Volume</th>\n",
       "      <th>SMA_50</th>\n",
       "      <th>SMA_200</th>\n",
       "      <th>MACD_12_26_9</th>\n",
       "      <th>MACDh_12_26_9</th>\n",
       "      <th>MACDs_12_26_9</th>\n",
       "      <th>RSI_14</th>\n",
       "      <th>Volatility</th>\n",
       "      <th>Daily_Return</th>\n",
       "      <th>interest_rate</th>\n",
       "      <th>vix</th>\n",
       "      <th>avy</th>\n",
       "      <th>lh</th>\n",
       "      <th>nxpi</th>\n",
       "      <th>nsdq</th>\n",
       "      <th>spy</th>\n",
       "    </tr>\n",
       "    <tr>\n",
       "      <th>Date</th>\n",
       "      <th></th>\n",
       "      <th></th>\n",
       "      <th></th>\n",
       "      <th></th>\n",
       "      <th></th>\n",
       "      <th></th>\n",
       "      <th></th>\n",
       "      <th></th>\n",
       "      <th></th>\n",
       "      <th></th>\n",
       "      <th></th>\n",
       "      <th></th>\n",
       "      <th></th>\n",
       "      <th></th>\n",
       "      <th></th>\n",
       "      <th></th>\n",
       "      <th></th>\n",
       "      <th></th>\n",
       "    </tr>\n",
       "  </thead>\n",
       "  <tbody>\n",
       "    <tr>\n",
       "      <th>2018-01-02</th>\n",
       "      <td>518.780029</td>\n",
       "      <td>432.673889</td>\n",
       "      <td>526400</td>\n",
       "      <td>NaN</td>\n",
       "      <td>NaN</td>\n",
       "      <td>NaN</td>\n",
       "      <td>NaN</td>\n",
       "      <td>NaN</td>\n",
       "      <td>NaN</td>\n",
       "      <td>NaN</td>\n",
       "      <td>NaN</td>\n",
       "      <td>2.465</td>\n",
       "      <td>9.77</td>\n",
       "      <td>103.802498</td>\n",
       "      <td>135.998566</td>\n",
       "      <td>108.132973</td>\n",
       "      <td>7006.899902</td>\n",
       "      <td>2695.810059</td>\n",
       "    </tr>\n",
       "    <tr>\n",
       "      <th>2018-01-03</th>\n",
       "      <td>508.660004</td>\n",
       "      <td>437.238922</td>\n",
       "      <td>448700</td>\n",
       "      <td>NaN</td>\n",
       "      <td>NaN</td>\n",
       "      <td>NaN</td>\n",
       "      <td>NaN</td>\n",
       "      <td>NaN</td>\n",
       "      <td>NaN</td>\n",
       "      <td>NaN</td>\n",
       "      <td>0.010551</td>\n",
       "      <td>2.447</td>\n",
       "      <td>9.15</td>\n",
       "      <td>104.098618</td>\n",
       "      <td>136.627045</td>\n",
       "      <td>108.252136</td>\n",
       "      <td>7065.529785</td>\n",
       "      <td>2713.060059</td>\n",
       "    </tr>\n",
       "    <tr>\n",
       "      <th>2018-01-04</th>\n",
       "      <td>516.500000</td>\n",
       "      <td>443.010986</td>\n",
       "      <td>389800</td>\n",
       "      <td>NaN</td>\n",
       "      <td>NaN</td>\n",
       "      <td>NaN</td>\n",
       "      <td>NaN</td>\n",
       "      <td>NaN</td>\n",
       "      <td>NaN</td>\n",
       "      <td>NaN</td>\n",
       "      <td>0.013201</td>\n",
       "      <td>2.453</td>\n",
       "      <td>9.22</td>\n",
       "      <td>104.789566</td>\n",
       "      <td>136.132645</td>\n",
       "      <td>108.059624</td>\n",
       "      <td>7077.910156</td>\n",
       "      <td>2723.989990</td>\n",
       "    </tr>\n",
       "    <tr>\n",
       "      <th>2018-01-05</th>\n",
       "      <td>523.859985</td>\n",
       "      <td>446.785400</td>\n",
       "      <td>483000</td>\n",
       "      <td>NaN</td>\n",
       "      <td>NaN</td>\n",
       "      <td>NaN</td>\n",
       "      <td>NaN</td>\n",
       "      <td>NaN</td>\n",
       "      <td>NaN</td>\n",
       "      <td>NaN</td>\n",
       "      <td>0.008520</td>\n",
       "      <td>2.476</td>\n",
       "      <td>9.22</td>\n",
       "      <td>106.027863</td>\n",
       "      <td>139.501175</td>\n",
       "      <td>108.224648</td>\n",
       "      <td>7136.560059</td>\n",
       "      <td>2743.149902</td>\n",
       "    </tr>\n",
       "    <tr>\n",
       "      <th>2018-01-08</th>\n",
       "      <td>523.940002</td>\n",
       "      <td>450.117767</td>\n",
       "      <td>561500</td>\n",
       "      <td>NaN</td>\n",
       "      <td>NaN</td>\n",
       "      <td>NaN</td>\n",
       "      <td>NaN</td>\n",
       "      <td>NaN</td>\n",
       "      <td>NaN</td>\n",
       "      <td>NaN</td>\n",
       "      <td>0.007459</td>\n",
       "      <td>2.480</td>\n",
       "      <td>9.52</td>\n",
       "      <td>106.422684</td>\n",
       "      <td>139.048706</td>\n",
       "      <td>108.435471</td>\n",
       "      <td>7157.390137</td>\n",
       "      <td>2747.709961</td>\n",
       "    </tr>\n",
       "  </tbody>\n",
       "</table>\n",
       "</div>"
      ],
      "text/plain": [
       "                  Open   Adj Close  Volume  SMA_50  SMA_200  MACD_12_26_9  \\\n",
       "Date                                                                        \n",
       "2018-01-02  518.780029  432.673889  526400     NaN      NaN           NaN   \n",
       "2018-01-03  508.660004  437.238922  448700     NaN      NaN           NaN   \n",
       "2018-01-04  516.500000  443.010986  389800     NaN      NaN           NaN   \n",
       "2018-01-05  523.859985  446.785400  483000     NaN      NaN           NaN   \n",
       "2018-01-08  523.940002  450.117767  561500     NaN      NaN           NaN   \n",
       "\n",
       "            MACDh_12_26_9  MACDs_12_26_9  RSI_14  Volatility  Daily_Return  \\\n",
       "Date                                                                         \n",
       "2018-01-02            NaN            NaN     NaN         NaN           NaN   \n",
       "2018-01-03            NaN            NaN     NaN         NaN      0.010551   \n",
       "2018-01-04            NaN            NaN     NaN         NaN      0.013201   \n",
       "2018-01-05            NaN            NaN     NaN         NaN      0.008520   \n",
       "2018-01-08            NaN            NaN     NaN         NaN      0.007459   \n",
       "\n",
       "            interest_rate   vix         avy          lh        nxpi  \\\n",
       "Date                                                                  \n",
       "2018-01-02          2.465  9.77  103.802498  135.998566  108.132973   \n",
       "2018-01-03          2.447  9.15  104.098618  136.627045  108.252136   \n",
       "2018-01-04          2.453  9.22  104.789566  136.132645  108.059624   \n",
       "2018-01-05          2.476  9.22  106.027863  139.501175  108.224648   \n",
       "2018-01-08          2.480  9.52  106.422684  139.048706  108.435471   \n",
       "\n",
       "                   nsdq          spy  \n",
       "Date                                  \n",
       "2018-01-02  7006.899902  2695.810059  \n",
       "2018-01-03  7065.529785  2713.060059  \n",
       "2018-01-04  7077.910156  2723.989990  \n",
       "2018-01-05  7136.560059  2743.149902  \n",
       "2018-01-08  7157.390137  2747.709961  "
      ]
     },
     "execution_count": 65,
     "metadata": {},
     "output_type": "execute_result"
    }
   ],
   "source": [
    "stock_data.head()"
   ]
  },
  {
   "cell_type": "code",
   "execution_count": 66,
   "metadata": {},
   "outputs": [
    {
     "name": "stdout",
     "output_type": "stream",
     "text": [
      "<class 'pandas.core.frame.DataFrame'>\n",
      "DatetimeIndex: 1446 entries, 2018-01-02 to 2023-09-29\n",
      "Data columns (total 18 columns):\n",
      " #   Column         Non-Null Count  Dtype  \n",
      "---  ------         --------------  -----  \n",
      " 0   Open           1446 non-null   float64\n",
      " 1   Adj Close      1446 non-null   float64\n",
      " 2   Volume         1446 non-null   int64  \n",
      " 3   SMA_50         1397 non-null   float64\n",
      " 4   SMA_200        1247 non-null   float64\n",
      " 5   MACD_12_26_9   1421 non-null   float64\n",
      " 6   MACDh_12_26_9  1413 non-null   float64\n",
      " 7   MACDs_12_26_9  1413 non-null   float64\n",
      " 8   RSI_14         1432 non-null   float64\n",
      " 9   Volatility     1426 non-null   float64\n",
      " 10  Daily_Return   1445 non-null   float64\n",
      " 11  interest_rate  1446 non-null   float64\n",
      " 12  vix            1446 non-null   float64\n",
      " 13  avy            1446 non-null   float64\n",
      " 14  lh             1446 non-null   float64\n",
      " 15  nxpi           1446 non-null   float64\n",
      " 16  nsdq           1446 non-null   float64\n",
      " 17  spy            1446 non-null   float64\n",
      "dtypes: float64(17), int64(1)\n",
      "memory usage: 246.9 KB\n"
     ]
    }
   ],
   "source": [
    "stock_data.info()"
   ]
  },
  {
   "cell_type": "code",
   "execution_count": null,
   "metadata": {},
   "outputs": [],
   "source": []
  }
 ],
 "metadata": {
  "kernelspec": {
   "display_name": "Python 3",
   "language": "python",
   "name": "python3"
  },
  "language_info": {
   "codemirror_mode": {
    "name": "ipython",
    "version": 3
   },
   "file_extension": ".py",
   "mimetype": "text/x-python",
   "name": "python",
   "nbconvert_exporter": "python",
   "pygments_lexer": "ipython3",
   "version": "3.11.4"
  }
 },
 "nbformat": 4,
 "nbformat_minor": 2
}
