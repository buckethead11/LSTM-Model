{
 "cells": [
  {
   "cell_type": "code",
   "execution_count": 3,
   "metadata": {},
   "outputs": [],
   "source": [
    "import pandas as pd\n",
    "import numpy as np\n",
    "import matplotlib.pyplot as plt\n",
    "import yfinance as yf\n",
    "import json\n",
    "import requests\n",
    "from yahoofinancials import YahooFinancials"
   ]
  },
  {
   "cell_type": "code",
   "execution_count": 4,
   "metadata": {},
   "outputs": [],
   "source": [
    "class StockDataProcessor:\n",
    "    def __init__(self, ticker, start_date, end_date, sp500_file='../data/sp500_historical_data.csv'):\n",
    "        self.ticker = ticker\n",
    "        self.start_date = start_date\n",
    "        self.end_date = end_date\n",
    "        self.sp500 = pd.read_csv(sp500_file)\n",
    "        self.stock_data = None\n",
    "\n",
    "    def get_stock_data(self):\n",
    "        \"\"\"Get historical stock data for the given ticker.\"\"\"\n",
    "        stock_data = yf.download(self.ticker, start=self.start_date, end=self.end_date)\n",
    "        return stock_data\n",
    "\n",
    "    def calculate_technical_indicators(self, stock_data):\n",
    "        \"\"\"Calculate technical indicators like SMA, MACD, and RSI.\"\"\"\n",
    "        stock_data['SMA_50'] = stock_data['Adj Close'].rolling(window=50).mean()\n",
    "        stock_data['SMA_200'] = stock_data['Adj Close'].rolling(window=200).mean()\n",
    "\n",
    "        # MACD\n",
    "        stock_data['MACD'] = stock_data['Adj Close'].ewm(span=12, adjust=False).mean() - stock_data['Adj Close'].ewm(span=26, adjust=False).mean()\n",
    "        stock_data['MACD_signal'] = stock_data['MACD'].ewm(span=9, adjust=False).mean()\n",
    "\n",
    "        # RSI (Relative Strength Index)\n",
    "        delta = stock_data['Adj Close'].diff(1)\n",
    "        gain = (delta.where(delta > 0, 0)).rolling(window=14).mean()\n",
    "        loss = (-delta.where(delta < 0, 0)).rolling(window=14).mean()\n",
    "        rs = gain / loss\n",
    "        stock_data['RSI_14'] = 100 - (100 / (1 + rs))\n",
    "        \n",
    "        return stock_data\n",
    "\n",
    "    def calculate_volatility(self, stock_data):\n",
    "        \"\"\"Calculate volatility based on daily percentage change.\"\"\"\n",
    "        stock_data['Volatility'] = stock_data['Adj Close'].pct_change().rolling(window=20).std()\n",
    "        return stock_data\n",
    "\n",
    "    def calculate_returns(self, stock_data):\n",
    "        \"\"\"Calculate daily returns.\"\"\"\n",
    "        stock_data['Daily_Return'] = stock_data['Adj Close'].pct_change()\n",
    "        return stock_data\n",
    "\n",
    "    def get_bond_interest_rate(self, stock_data):\n",
    "        \"\"\"Get 10-year bond interest rate and add to stock_data.\"\"\"\n",
    "        interest_rate = yf.download('^TNX', start=self.start_date, end=self.end_date)\n",
    "        stock_data['interest_rate'] = interest_rate['Adj Close'].tolist()\n",
    "        return stock_data\n",
    "\n",
    "    def get_bond_volatility_rate(self, stock_data):\n",
    "        \"\"\"Get bond volatility index (VIX) and add to stock_data.\"\"\"\n",
    "        vix = yf.download('^VIX', start=self.start_date, end=self.end_date)\n",
    "        stock_data['vix'] = vix['Adj Close'].tolist()\n",
    "        return stock_data\n",
    "\n",
    "    def highest_correlation(self, df, target_stock):\n",
    "        \"\"\"Find the top 3 correlated stocks with the target stock.\"\"\"\n",
    "        target_prices = df[df['Symbol'] == target_stock]['Adj Close']\n",
    "        pivot_df = df.pivot(index='Date', columns='Symbol', values='Adj Close')\n",
    "        corr_matrix = pivot_df.corr()\n",
    "        top_3_corr = corr_matrix[target_stock].drop(target_stock).sort_values(ascending=False).head(3)\n",
    "        result = top_3_corr.keys().tolist()\n",
    "        return [string.upper() for string in result]\n",
    "\n",
    "    def get_similar_stocks(self, stock_data):\n",
    "        \"\"\"Get historical data for stocks with the highest correlation to the target stock.\"\"\"\n",
    "        symbols = self.highest_correlation(self.sp500, self.ticker)\n",
    "        for symbol in symbols:\n",
    "            historical_data = yf.download(symbol, start=self.start_date, end=self.end_date)\n",
    "            stock_data[symbol.lower()] = historical_data['Adj Close']\n",
    "        return stock_data\n",
    "\n",
    "    def get_index_data(self, stock_data):\n",
    "        \"\"\"Add NASDAQ and S&P 500 index data to stock_data.\"\"\"\n",
    "        nsdq = yf.download('^IXIC', start=self.start_date, end=self.end_date)\n",
    "        spy = yf.download('^GSPC', start=self.start_date, end=self.end_date)\n",
    "        stock_data['nsdq'] = nsdq['Adj Close'].tolist()\n",
    "        stock_data['spy'] = spy['Adj Close'].tolist()\n",
    "        return stock_data\n",
    "\n",
    "    def process_data(self):\n",
    "        \"\"\"Complete data processing pipeline.\"\"\"\n",
    "        # Step 1: Get historical stock data\n",
    "        self.stock_data = self.get_stock_data()\n",
    "\n",
    "        # Step 2: Calculate technical indicators\n",
    "        self.stock_data = self.calculate_technical_indicators(self.stock_data)\n",
    "\n",
    "        # Step 3: Calculate volatility and returns\n",
    "        self.stock_data = self.calculate_volatility(self.stock_data)\n",
    "        self.stock_data = self.calculate_returns(self.stock_data)\n",
    "\n",
    "        # Step 4: Add bond interest rate and volatility data\n",
    "        self.stock_data = self.get_bond_interest_rate(self.stock_data)\n",
    "        self.stock_data = self.get_bond_volatility_rate(self.stock_data)\n",
    "\n",
    "        # Step 5: Add similar stocks and index data\n",
    "        self.stock_data = self.get_similar_stocks(self.stock_data)\n",
    "        self.stock_data = self.get_index_data(self.stock_data)\n",
    "\n",
    "        # Step 6: Drop unused columns\n",
    "        self.stock_data = self.stock_data.drop(['High', 'Low', 'Close'], axis=1)\n",
    "\n",
    "    def save_data(self):\n",
    "        \"\"\"Save the processed stock data to a CSV file.\"\"\"\n",
    "        filename = f'../data/stock_data_{self.ticker}.csv'\n",
    "        self.stock_data.to_csv(filename)\n",
    "        print(f\"Data saved to {filename}\")"
   ]
  },
  {
   "cell_type": "code",
   "execution_count": 7,
   "metadata": {},
   "outputs": [
    {
     "name": "stderr",
     "output_type": "stream",
     "text": [
      "[*********************100%***********************]  1 of 1 completed\n",
      "[*********************100%***********************]  1 of 1 completed\n",
      "[*********************100%***********************]  1 of 1 completed\n",
      "[*********************100%***********************]  1 of 1 completed\n",
      "[*********************100%***********************]  1 of 1 completed\n",
      "[*********************100%***********************]  1 of 1 completed\n",
      "[*********************100%***********************]  1 of 1 completed\n",
      "[*********************100%***********************]  1 of 1 completed"
     ]
    },
    {
     "name": "stdout",
     "output_type": "stream",
     "text": [
      "Data saved to ../data/stock_data_JNJ.csv\n"
     ]
    },
    {
     "name": "stderr",
     "output_type": "stream",
     "text": [
      "\n"
     ]
    }
   ],
   "source": [
    "ticker = 'JNJ'\n",
    "start_date = '2018-01-01'\n",
    "end_date = '2024-08-01'\n",
    "\n",
    "processor = StockDataProcessor(ticker=ticker, start_date=start_date, end_date=end_date)\n",
    "processor.process_data()\n",
    "processor.save_data()"
   ]
  },
  {
   "cell_type": "code",
   "execution_count": null,
   "metadata": {},
   "outputs": [],
   "source": []
  }
 ],
 "metadata": {
  "kernelspec": {
   "display_name": "Python 3",
   "language": "python",
   "name": "python3"
  },
  "language_info": {
   "codemirror_mode": {
    "name": "ipython",
    "version": 3
   },
   "file_extension": ".py",
   "mimetype": "text/x-python",
   "name": "python",
   "nbconvert_exporter": "python",
   "pygments_lexer": "ipython3",
   "version": "3.12.5"
  }
 },
 "nbformat": 4,
 "nbformat_minor": 2
}
