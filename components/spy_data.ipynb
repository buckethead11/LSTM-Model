{
 "cells": [
  {
   "cell_type": "code",
   "execution_count": 1,
   "metadata": {},
   "outputs": [],
   "source": [
    "import bs4 as bs\n",
    "import requests\n",
    "import datetime\n",
    "import yfinance as yf"
   ]
  },
  {
   "cell_type": "code",
   "execution_count": 2,
   "metadata": {},
   "outputs": [],
   "source": [
    "resp = requests.get('http://en.wikipedia.org/wiki/List_of_S%26P_500_companies')\n",
    "soup = bs.BeautifulSoup(resp.text, 'lxml')\n",
    "table = soup.find('table', {'class': 'wikitable sortable'})"
   ]
  },
  {
   "cell_type": "code",
   "execution_count": 5,
   "metadata": {},
   "outputs": [],
   "source": [
    "tickers = []\n",
    "\n",
    "for row in table.findAll('tr')[1:]:\n",
    "    ticker = row.findAll('td')[0].text\n",
    "    tickers.append(ticker)\n",
    "\n",
    "tickers = [s.replace('\\n', '') for s in tickers]"
   ]
  },
  {
   "cell_type": "code",
   "execution_count": 7,
   "metadata": {},
   "outputs": [],
   "source": [
    "start_date = '2018-01-01'\n",
    "end_date = '2023-10-01'"
   ]
  },
  {
   "cell_type": "code",
   "execution_count": 8,
   "metadata": {},
   "outputs": [
    {
     "name": "stdout",
     "output_type": "stream",
     "text": [
      "[*********************100%%**********************]  503 of 503 completed"
     ]
    },
    {
     "name": "stderr",
     "output_type": "stream",
     "text": [
      "\n",
      "3 Failed downloads:\n",
      "['VLTO']: Exception(\"%ticker%: Data doesn't exist for startDate = 1514782800, endDate = 1696132800\")\n",
      "['BF.B']: Exception('%ticker%: No price data found, symbol may be delisted (1d 2018-01-01 -> 2023-10-01)')\n",
      "['BRK.B']: Exception('%ticker%: No timezone found, symbol may be delisted')\n"
     ]
    },
    {
     "name": "stdout",
     "output_type": "stream",
     "text": [
      "\n"
     ]
    }
   ],
   "source": [
    "data = yf.download(tickers, start=start_date, end=end_date)"
   ]
  },
  {
   "cell_type": "code",
   "execution_count": 9,
   "metadata": {},
   "outputs": [],
   "source": [
    "df = data.stack().reset_index().rename(index=str, columns={\"level_1\": \"Symbol\"}).sort_values(['Symbol','Date'])\n",
    "df.set_index('Date', inplace=True)"
   ]
  },
  {
   "cell_type": "code",
   "execution_count": 10,
   "metadata": {},
   "outputs": [
    {
     "data": {
      "text/html": [
       "<div>\n",
       "<style scoped>\n",
       "    .dataframe tbody tr th:only-of-type {\n",
       "        vertical-align: middle;\n",
       "    }\n",
       "\n",
       "    .dataframe tbody tr th {\n",
       "        vertical-align: top;\n",
       "    }\n",
       "\n",
       "    .dataframe thead th {\n",
       "        text-align: right;\n",
       "    }\n",
       "</style>\n",
       "<table border=\"1\" class=\"dataframe\">\n",
       "  <thead>\n",
       "    <tr style=\"text-align: right;\">\n",
       "      <th></th>\n",
       "      <th>Symbol</th>\n",
       "      <th>Adj Close</th>\n",
       "      <th>Close</th>\n",
       "      <th>High</th>\n",
       "      <th>Low</th>\n",
       "      <th>Open</th>\n",
       "      <th>Volume</th>\n",
       "    </tr>\n",
       "    <tr>\n",
       "      <th>Date</th>\n",
       "      <th></th>\n",
       "      <th></th>\n",
       "      <th></th>\n",
       "      <th></th>\n",
       "      <th></th>\n",
       "      <th></th>\n",
       "      <th></th>\n",
       "    </tr>\n",
       "  </thead>\n",
       "  <tbody>\n",
       "    <tr>\n",
       "      <th>2018-01-02</th>\n",
       "      <td>A</td>\n",
       "      <td>64.625565</td>\n",
       "      <td>67.599998</td>\n",
       "      <td>67.889999</td>\n",
       "      <td>67.339996</td>\n",
       "      <td>67.419998</td>\n",
       "      <td>1047800.0</td>\n",
       "    </tr>\n",
       "    <tr>\n",
       "      <th>2018-01-03</th>\n",
       "      <td>A</td>\n",
       "      <td>66.269897</td>\n",
       "      <td>69.320000</td>\n",
       "      <td>69.489998</td>\n",
       "      <td>67.599998</td>\n",
       "      <td>67.620003</td>\n",
       "      <td>1698900.0</td>\n",
       "    </tr>\n",
       "    <tr>\n",
       "      <th>2018-01-04</th>\n",
       "      <td>A</td>\n",
       "      <td>65.772774</td>\n",
       "      <td>68.800003</td>\n",
       "      <td>69.820000</td>\n",
       "      <td>68.779999</td>\n",
       "      <td>69.540001</td>\n",
       "      <td>2230700.0</td>\n",
       "    </tr>\n",
       "    <tr>\n",
       "      <th>2018-01-05</th>\n",
       "      <td>A</td>\n",
       "      <td>66.824364</td>\n",
       "      <td>69.900002</td>\n",
       "      <td>70.099998</td>\n",
       "      <td>68.730003</td>\n",
       "      <td>68.730003</td>\n",
       "      <td>1632500.0</td>\n",
       "    </tr>\n",
       "    <tr>\n",
       "      <th>2018-01-08</th>\n",
       "      <td>A</td>\n",
       "      <td>66.967758</td>\n",
       "      <td>70.050003</td>\n",
       "      <td>70.330002</td>\n",
       "      <td>69.550003</td>\n",
       "      <td>69.730003</td>\n",
       "      <td>1613400.0</td>\n",
       "    </tr>\n",
       "    <tr>\n",
       "      <th>...</th>\n",
       "      <td>...</td>\n",
       "      <td>...</td>\n",
       "      <td>...</td>\n",
       "      <td>...</td>\n",
       "      <td>...</td>\n",
       "      <td>...</td>\n",
       "      <td>...</td>\n",
       "    </tr>\n",
       "    <tr>\n",
       "      <th>2023-09-25</th>\n",
       "      <td>ZTS</td>\n",
       "      <td>176.894302</td>\n",
       "      <td>177.720001</td>\n",
       "      <td>177.919998</td>\n",
       "      <td>175.139999</td>\n",
       "      <td>175.800003</td>\n",
       "      <td>1551100.0</td>\n",
       "    </tr>\n",
       "    <tr>\n",
       "      <th>2023-09-26</th>\n",
       "      <td>ZTS</td>\n",
       "      <td>176.048248</td>\n",
       "      <td>176.869995</td>\n",
       "      <td>178.449997</td>\n",
       "      <td>176.270004</td>\n",
       "      <td>176.580002</td>\n",
       "      <td>1463200.0</td>\n",
       "    </tr>\n",
       "    <tr>\n",
       "      <th>2023-09-27</th>\n",
       "      <td>ZTS</td>\n",
       "      <td>173.868408</td>\n",
       "      <td>174.679993</td>\n",
       "      <td>178.190002</td>\n",
       "      <td>172.789993</td>\n",
       "      <td>177.729996</td>\n",
       "      <td>1450400.0</td>\n",
       "    </tr>\n",
       "    <tr>\n",
       "      <th>2023-09-28</th>\n",
       "      <td>ZTS</td>\n",
       "      <td>173.201523</td>\n",
       "      <td>174.009995</td>\n",
       "      <td>175.729996</td>\n",
       "      <td>173.779999</td>\n",
       "      <td>174.440002</td>\n",
       "      <td>1115900.0</td>\n",
       "    </tr>\n",
       "    <tr>\n",
       "      <th>2023-09-29</th>\n",
       "      <td>ZTS</td>\n",
       "      <td>173.171677</td>\n",
       "      <td>173.979996</td>\n",
       "      <td>175.589996</td>\n",
       "      <td>173.789993</td>\n",
       "      <td>175.589996</td>\n",
       "      <td>1498500.0</td>\n",
       "    </tr>\n",
       "  </tbody>\n",
       "</table>\n",
       "<p>715632 rows × 7 columns</p>\n",
       "</div>"
      ],
      "text/plain": [
       "           Symbol   Adj Close       Close        High         Low        Open  \\\n",
       "Date                                                                            \n",
       "2018-01-02      A   64.625565   67.599998   67.889999   67.339996   67.419998   \n",
       "2018-01-03      A   66.269897   69.320000   69.489998   67.599998   67.620003   \n",
       "2018-01-04      A   65.772774   68.800003   69.820000   68.779999   69.540001   \n",
       "2018-01-05      A   66.824364   69.900002   70.099998   68.730003   68.730003   \n",
       "2018-01-08      A   66.967758   70.050003   70.330002   69.550003   69.730003   \n",
       "...           ...         ...         ...         ...         ...         ...   \n",
       "2023-09-25    ZTS  176.894302  177.720001  177.919998  175.139999  175.800003   \n",
       "2023-09-26    ZTS  176.048248  176.869995  178.449997  176.270004  176.580002   \n",
       "2023-09-27    ZTS  173.868408  174.679993  178.190002  172.789993  177.729996   \n",
       "2023-09-28    ZTS  173.201523  174.009995  175.729996  173.779999  174.440002   \n",
       "2023-09-29    ZTS  173.171677  173.979996  175.589996  173.789993  175.589996   \n",
       "\n",
       "               Volume  \n",
       "Date                   \n",
       "2018-01-02  1047800.0  \n",
       "2018-01-03  1698900.0  \n",
       "2018-01-04  2230700.0  \n",
       "2018-01-05  1632500.0  \n",
       "2018-01-08  1613400.0  \n",
       "...               ...  \n",
       "2023-09-25  1551100.0  \n",
       "2023-09-26  1463200.0  \n",
       "2023-09-27  1450400.0  \n",
       "2023-09-28  1115900.0  \n",
       "2023-09-29  1498500.0  \n",
       "\n",
       "[715632 rows x 7 columns]"
      ]
     },
     "execution_count": 10,
     "metadata": {},
     "output_type": "execute_result"
    }
   ],
   "source": [
    "df"
   ]
  },
  {
   "cell_type": "code",
   "execution_count": 11,
   "metadata": {},
   "outputs": [],
   "source": [
    "df.to_csv('./data/sp500_stocks.csv')"
   ]
  },
  {
   "cell_type": "code",
   "execution_count": null,
   "metadata": {},
   "outputs": [],
   "source": []
  }
 ],
 "metadata": {
  "kernelspec": {
   "display_name": "Python 3",
   "language": "python",
   "name": "python3"
  },
  "language_info": {
   "codemirror_mode": {
    "name": "ipython",
    "version": 3
   },
   "file_extension": ".py",
   "mimetype": "text/x-python",
   "name": "python",
   "nbconvert_exporter": "python",
   "pygments_lexer": "ipython3",
   "version": "3.11.4"
  }
 },
 "nbformat": 4,
 "nbformat_minor": 2
}
